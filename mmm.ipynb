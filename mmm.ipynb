{
 "cells": [
  {
   "cell_type": "code",
   "execution_count": 1,
   "id": "8f6280d7",
   "metadata": {},
   "outputs": [
    {
     "name": "stdout",
     "output_type": "stream",
     "text": [
      "Mean:  2.5\n",
      "\n",
      "Median:  2.0\n",
      "\n",
      "Mode: {2}\n",
      "\n",
      "Variance:  1.6111111111111112\n",
      "\n",
      "Standard Deviation:  1.2692955176439846\n",
      "\n",
      "Min Max Normalisation --> \n",
      "{1: 0.0, 2: 0.25, 3: 0.5, 4: 0.75, 5: 1.0}\n",
      "\n",
      "Standardisation --> \n",
      "{1: -1.18, 2: -0.39, 3: 0.39, 4: 1.18, 5: 1.97}\n"
     ]
    }
   ],
   "source": [
    "\n",
    "import statistics as st\n",
    "import numpy as np\n",
    "import math\n",
    "#from sklearn.preprocessing import StandardScaler, MinMaxScaler, Normalizer\n",
    "\n",
    "# Operations on 1-D array\n",
    "#arr1 = [10, 23, 3, 10, 121, 7, 10, 76, 42, 89]\n",
    "arr1 = [1,2,3,4,5,2,2,1,2,3]\n",
    "arr1.sort()\n",
    "n = len(arr1)\n",
    "\n",
    "# Mean\n",
    "mean = sum(arr1) / len(arr1)\n",
    "print(\"Mean: \", mean)\n",
    "\n",
    "# Median\n",
    "if(n%2 == 0):\n",
    "  median = (arr1[int(n/2)-1] + arr1[int(n/2)]) / 2\n",
    "else:\n",
    "  median = arr1[ int(n/2) ]\n",
    "print(\"\\nMedian: \", median)\n",
    "\n",
    "# Mode\n",
    "a = []\n",
    "i = 0\n",
    "while i < len(arr1):\n",
    "  a.append(arr1.count(arr1[i]))\n",
    "  i += 1\n",
    "d1 = dict(zip(arr1, a))\n",
    "mode = { k for (k,v) in d1.items() if v==max(a)}\n",
    "print(\"\\nMode:\", mode)\n",
    "\n",
    "# Variance and Standard deviation\n",
    "summ = 0\n",
    "for ele in arr1:\n",
    "  summ += pow((mean-ele),2)\n",
    "variance = summ/(len(arr1)-1)\n",
    "std = math.sqrt(variance)\n",
    "print(\"\\nVariance: \", variance)\n",
    "print(\"\\nStandard Deviation: \", std)\n",
    "\n",
    "# Mim-Max Normalisation\n",
    "mini = min(arr1)\n",
    "maxi = max(arr1)\n",
    "norm = []\n",
    "for i in arr1:\n",
    "  nr = (i-mini)/(maxi-mini)\n",
    "  norm.append(round(nr, 2))\n",
    "\n",
    "d1 = dict(zip(arr1, norm))\n",
    "print(\"\\nMin Max Normalisation --> \")\n",
    "print(d1)\n",
    "\n",
    "#Standardisation\n",
    "standardised = []\n",
    "for ele in arr1:\n",
    "  sd = (ele-mean)/std\n",
    "  standardised.append(round(sd, 2))\n",
    "\n",
    "d2 = dict(zip(arr1, standardised))\n",
    "print(\"\\nStandardisation --> \")\n",
    "print(d2)\n"
   ]
  },
  {
   "cell_type": "code",
   "execution_count": null,
   "id": "4a3672e8",
   "metadata": {},
   "outputs": [],
   "source": []
  }
 ],
 "metadata": {
  "kernelspec": {
   "display_name": "Python 3 (ipykernel)",
   "language": "python",
   "name": "python3"
  },
  "language_info": {
   "codemirror_mode": {
    "name": "ipython",
    "version": 3
   },
   "file_extension": ".py",
   "mimetype": "text/x-python",
   "name": "python",
   "nbconvert_exporter": "python",
   "pygments_lexer": "ipython3",
   "version": "3.9.7"
  }
 },
 "nbformat": 4,
 "nbformat_minor": 5
}
